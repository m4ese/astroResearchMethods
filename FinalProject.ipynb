{
 "cells": [
  {
   "cell_type": "markdown",
   "metadata": {},
   "source": [
    "# Discovery of White Dwarf Companion\n",
    "\n",
    "In [this](https://iopscience.iop.org/article/10.3847/1538-4357/ab1b11) paper from 2019, the authors report on the discovery of a white dwarf orbiting around another star. We will explore how they came to this conclusion.\n",
    "\n",
    "*Please fill out the relevant cells below according to the instructions. When done, save the notebook and export it to PDF, upload the PDF file to Canvas. For handwritten or other submissions, convert to PDF and upload the resulting document to Canvas.*"
   ]
  },
  {
   "cell_type": "markdown",
   "metadata": {},
   "source": [
    "## Group Members\n",
    "\n",
    "*Group submission with up to 3 students is highly encouraged. If you submit as part of group, list all group members with their contributions to this assignment:*\n",
    "\n",
    "* Mark Forese (wrote functions for Problem 3, )\n",
    "* Shai Slav (Answered Problems 1 and 2,)\n",
    "\n",
    "\n",
    "---"
   ]
  },
  {
   "cell_type": "markdown",
   "metadata": {},
   "source": [
    "## 1. Digest the paper (6pts)\n",
    "\n",
    "The paper is a protoypical example of modern astrophysics literature (including some casual sloppiness). It has an introduction that motivates the work; a data section; several analysis sections; a discussion; and conclusions.\n",
    "\n",
    "Here's what you need to find out:\n",
    "1. What have these authors actually done, i.e. what are the main steps of their work (e.g. did they observe themselves or take data from somebody else)?\n",
    "2. How did they process and analyze the data, and how can you get them?\n",
    "3. Why is this work relevant? What do we know now that we didn't know before?\n",
    "\n",
    "Write a few sentences on each of these items.\n",
    "\n",
    "A few tips on reading papers:\n",
    "* Make a shallow pass first, try to get to the overall intent and main aspects. Then dive in and read in detail.\n",
    "* Don't despair when you can't follow the abstract. It's crammed and full of jargon. Instead, read the conclusion section, it's often a much better summary.\n",
    "* Make notes while you read. Print the PDF and scribble on it or use a tablet with a stylus, but keep the notes visually together with the place in the paper they refer to."
   ]
  },
  {
   "cell_type": "markdown",
   "metadata": {},
   "source": [
    "### 1. Solution\n",
    "\n",
    "The paper \"Discovery of a White Dwarf Companion to HD 159062\" by Hirsch et al. used radial velocity (RV) data to prove the existence of a white dwarf companion to the late G dwarf star, HD 159062. Although a white dwarf companion to HD 159602 was alluded to in Fuhrmann et all. In 2017, Hirsch et al. were the first to properly observe and report on it. The data collected are their own.\n",
    "\n",
    "- The RV data used in this paper was collected by the HIRES at the W.M Keck Observatory over 14 years. Further multi-epoch, multi-band imaging observations were used from the ShaneAO system at Lick Observatory, PHARO at Palomar Observatory, and NIRC2 at Keck observatory. The authors of this paper primarily worked with and manipulated the data to obtain their results. \n",
    "\n",
    "- We can access this data through <a href =\"http://simbad.u-strasbg.fr/simbad/sim-id?Ident=HD+159062\" target =\"_blank\">SIMBAD</a> (an astronomical database)\n",
    "\n",
    "- HIRES data (10 m Keck Telescope): To reduce the spectra, a CPS pipeline was used. For each epoch, the absorption lines from starlight in cells containing molecular iodine were used as a high-fidelity wavelength calibration and PSF reference. The radial velocity and its uncertainties were then extracted for each chunk of the spectrum per epoch.\n",
    "\n",
    "- ShaneAO data (3 m shane Telescope at Lick Observatory): Hirsch et al. used images in the $K_s$ band from the ShaneAO system. The primary star's PSF was subtracted from the image to obtain relative flux values for it as well as its companion using a high-pass filtered version of the original image. \n",
    "    \n",
    "- Keck/NIRC2 data:  Images of HD 159062 in the $L'$ band were used as well, taken wiht Keck NIRC2. Sky background frames were subtracted from each frame indivudally. Principal component analysis was used to estimate and subtract the stellar contribution from the images. A copy of the off-axis PSF at the location of the white dwarf was subtracted as well. These steps were repeated to produce an image where the companion star was clearly resolved.\n",
    "\n",
    "- Putting the data together: the RV data obtained from the HIRES observations was finally used to rule out HD 159062 B as a brown dwarf. Newton's second law was used to obtain its mass, found to be larger than the upper limit on brown dwarfs. Furthermore, the colors from the images in infrared show that the star is not a brown dwarf. However, the images and measurement of its mass are consistent with those of a white dwarf, solidifying the companion star's classification.\n",
    "    \n",
    "- On the implications of the results: HD 159062 is a main sequence star, unique for Ba stars (which are typically G and K giants). The separation between HD 159062 and its companion star is wider than other known binaries of Ba or CH stars, and its orbital period is much longer as well. These results might be consistent with a process in which the white dwarf is \"kicked\" as it is formed. The unique propreties of this binary system suggest that there may be more binary systems that share these qualities that we have simply yet to identify, maybe due to this extra-large separation and faintness of the companion in images that have yet to be manipulated.\n",
    "    \n",
    "- In conclusion, the authors of the paper resolved telescope images through python programming to reveal a bright spot near HD 159062 (its companion). The methods, packages, and algorithms used were not novel, taken from a number of previously published papers (eg: QACITS tip-tilt control algorith - Huby et al. 2017, principal component analysis - Sounmer et al. 2012, Vortex Image Processing (VIP) software package - Gomez Gonzales et al.). Through their manipulation of the images, the authors of this paper were indeed able to prove the existence of a white dwarf companion star to HD 159062.\n",
    "\n",
    "- This work is relevant because it took a source where there had been an expected binary companion, and discoverd more information about its nature. They found that it was too massive to be a brown dwarf, and that it was not luminous enough to be a main sequence star."
   ]
  },
  {
   "cell_type": "markdown",
   "metadata": {},
   "source": [
    "## 2. Background: Radial Velocity and Direct Imaging (6pts)\n",
    "\n",
    "Describe briefly (about 5 sentences), in your own words, how radial velocity measurements work, what they tell us, and what the practical difficulties are.\n",
    "\n",
    "Do the same for Direct Imaging."
   ]
  },
  {
   "cell_type": "markdown",
   "metadata": {},
   "source": [
    "### 2. Solution\n",
    "<ol>\n",
    "    <li>The <strong>radial velocity</strong> method (also known as Doppler spectroscopy) uses the electromagnetic spectrum to obtain the velocity of stars. A high resolution spectrum is taken for a given star and its wavelengths are compared to those obtained in a laboratory condition. Through the shift of the wavelengths of the star's spectrum relative to those in the lab, the star's radial velocity can be obtained. If the wavelengths are shifted towards red, the star is moving away from us, and if they are shifted towards blue, it is moving towards us. The formula for obtaining the raidal velocity is then\n",
    "\n",
    "$$\\frac{\\Delta\\lambda}{\\lambda_0}=\\frac{v_r}{c}$$ \n",
    "\n",
    "with $\\lambda_0$ = the wavelength measured in laboratory conditions, $\\Delta\\lambda$ = the separation between the two wavelengths, $v_r$ = the radial velocity, and c = speed of light. The radial velocity method is useful for detecting exoplanets and revealing some properties of binary systems of stars. The practical difficulties with this method are that it is not necessarily accurate when observing multiple stars or systems at once (as it may produce false signals) and it can only provide a lower bound on the mass of very distant stars. Furthermore, it can only be used to detect velocities that are perpendicular to earth, and is useless in cases where the plane of a star's orbit is parallel to earth (face-on when observed). Finally, variations in a star's brightness can lead to inconsistencies in measurements made using the radial velocity method. </li>\n",
    "\n",
    "<li>The <strong>direct imaging</strong> method works by removing the glare of bright stars in images to reveal fainter exoplanets orbiting them. This method is extremely useful in helping to identify exoplanets directly, and can even help reveal their composition. The difficulties with this method are that it only works with stars of a specific wavelength (at infrared), because stars at this wavelength are typically only on the order of one million (10<sup>6</sup>) times brighter than, say, a planet reflecting their light, while stars emitting lights at visible wavelength will typically be on the order of a billion (10<sup>9</sup>) times brighter than a planet reflecting their light. Furthermore, because the star is so much brighter than its companion, this method can only be used when an exoplanet is either particularly large, or orbiting far enough away from its star. Due to this necessary balance between a star's brightness and its orbiting exoplanet, this method can only be used in very specific, rare instances. </li>"
   ]
  },
  {
   "cell_type": "markdown",
   "metadata": {},
   "source": [
    "## 3. Extending the Two-Body Problem (10pts)\n",
    "\n",
    "The paper can be criticized for not providing any of the required theory behind orbital observations. Here it is:\n",
    "\n",
    "We have worked with the classic form of the Kepler problem in Assignments 3 and 4. We now need to extend it by connecting the predicted orbit to the measurements. The implicit Kepler equation\n",
    "\n",
    "$$\n",
    "M = E - e \\sin(E) = \\frac{2\\pi}{P}(t-t_0) = \\frac{2\\pi}{P}t-M_0\n",
    "$$\n",
    "\n",
    "connects the eccentric anomaly $E$ to the mean anomaly $M$ via the eccentricity $e$, the orbital period $P$, and the time $t_0$ of last periapsis. The paper uses (but does not define) $M_0 \\equiv \\tfrac{2\\pi}{P}t_0$. In other words, once you know $e$, $P$, and $t_0$ or $M_0$, you can predict an Keplerian orbit for any time $t$ (and you need to use e.g. Newton's method to solve for $E$)."
   ]
  },
  {
   "cell_type": "markdown",
   "metadata": {},
   "source": [
    "### Observations of the orbit\n",
    "\n",
    "We need to connect the elliptical orbit to observables, which means that we need to determine how we would see such an orbit from Earth.\n",
    "\n",
    "For **RV measurements**, we need to know how the star moves with respect to the common center of the two-body system. This requires the true anomaly $\\theta$ as a function of time, which is given by\n",
    "\n",
    "$$\n",
    "\\begin{split}\n",
    "\\theta(t) = \\begin{cases}\\theta^\\prime(t) & \\text{if}\\ E(t)\\leq \\pi \\\\ 2\\pi-\\theta^\\prime(t) & \\text{if}\\ E(t)>\\pi\\end{cases}\\\\\n",
    "\\text{where}\\ \\theta^\\prime(t) = \\cos^{-1}\\left(\\frac{\\cos\\left(E(t)\\right)-e}{1-e \\cos\\left(E(t)\\right)}\\right)\n",
    "\\end{split}\n",
    "$$\n",
    "\n",
    "The radial velocity of the primary due to the companion's motion is\n",
    "\n",
    "$$\n",
    "v(t) =  K_1\\left[\\cos\\left(\\theta(t)+\\omega_1\\right)+e \\cos(\\omega_1)\\right]+\\gamma\n",
    "$$\n",
    "\n",
    "where $\\omega_1$ is the Argument of Periapsis for the primary, $\\gamma$ is the instrument velocity offset and the amplitude of the primary ($K_1$) is \n",
    "\n",
    "$$\n",
    "K_1 = \\left[\\frac{2\\pi G}{P}\\right]^{1/3}\\frac{m_2\\sin(i)}{m_{\\rm tot}^{2/3}}\\frac{1}{\\sqrt{1-e^2}} \n",
    "$$\n",
    "\n",
    "with $G$ being Newton's gravitational constant, $m_2$ the companion's mass, $i$ the inclination, and $m_{\\rm tot} = m_1 + m_2$ the total mass of both objects.\n",
    "\n",
    "For **Direct Imaging**, we need to know the location of a companion in a coordinate system centered on the primary. That can be computed with the so-called Thiele-Innes method, which introduces four constants to summarize the orbital elements:\n",
    "\n",
    "$$\n",
    "\\begin{align}\n",
    "A &= a_{\\rm tot}\\left[\\cos(\\Omega_2)\\cos(\\omega_2)-\\sin(\\Omega_2)\\sin(\\omega_2)\\cos(i)\\right]\\\\\n",
    "B &= a_{\\rm tot}\\left[\\sin(\\Omega_2)\\cos(\\omega_2)+\\cos(\\Omega_2)\\sin(\\omega_2)\\cos(i)\\right]\\\\\n",
    "F &= a_{\\rm tot}\\left[-\\cos(\\Omega_2)\\sin(\\omega_2)-\\sin(\\Omega_2)\\cos(\\omega_2)\\cos(i)\\right]\\\\\n",
    "G &= a_{\\rm tot}\\left[-\\sin(\\Omega_2)\\sin(\\omega_2)+\\cos(\\Omega_2)\\cos(\\omega_2)\\cos(i)\\right] .\n",
    "\\end{align}\n",
    "$$\n",
    "\n",
    "The total semi-major axis of the apparent ellipse ($a_{\\rm tot}$) is calculated with Kepler's third law,\n",
    "\n",
    "$$\n",
    "a_{\\rm tot} = \\left[\\frac{P^2G m_{\\rm tot}}{4\\pi^2} \\right]^{1/3}\n",
    "$$\n",
    "\n",
    "with $G$ being again Newton's gravitational constant, not Thiele-Innes' $G$ (sorry, that symbol conflict is a known one in orbital mechanics, accept it and move on).\n",
    "\n",
    "Thiele-Innes constants give the relative location of the secondary with respect to the primary in the plane of the sky. The matching relative right ascension $\\Delta \\alpha$ and declination $\\Delta \\delta$ for comparison to the data are found by turning distances into angles, assuming the distance $d$ to the star (which is given in Table 1):\n",
    "\n",
    "$$\n",
    "\\begin{align}\n",
    "&\\Delta \\delta(t) = \\frac{1}{d}\\left[A\\,X(t)+F\\,Y(t)\\right]\\\\\n",
    "&\\Delta \\alpha(t) = \\frac{1}{d}\\left[B\\,X(t) + G\\,Y(t)\\right]\\\\\n",
    "\\text{with} \\ \\\n",
    "&X(t) = \\cos(E(t))-e\\\\\n",
    "&Y(t) = \\sqrt{1-e^2}\\sin(E(t))\n",
    "\\end{align}\n",
    "$$\n",
    "\n",
    "The orbits of primary (for RV) and secondary (for DI) are not independent. In fact (by virtue of Newton's third law of motion), the orbits of the two bodies have matching values for all the orbital elements except $\\Omega$ and $\\omega$.  To convert between them, the relations are $\\omega_1 = \\omega_2 +\\pi$ and $\\Omega_1 = \\Omega_2 +\\pi$."
   ]
  },
  {
   "cell_type": "markdown",
   "metadata": {},
   "source": [
    "### Summary of Parameters\n",
    "\n",
    "With all the theory out of the way, let's get a top-level view of the problem (more details and a useful schematic are given [here](https://en.wikipedia.org/wiki/Orbital_elements)). The fundamental parameters of the problem are\n",
    "\n",
    "| Symbol | Name |\n",
    "| ------ | ---- |\n",
    "| $P$ | Orbital period |\n",
    "| $m_1$ | Mass of the primary star |\n",
    "| $m_2$ | Mass of the companion |\n",
    "| $\\Omega_2$ | Longitude of the Ascending Node |\n",
    "| $\\omega_2$ | Argument of Periapsis |\n",
    "| $i$ | Inclination |\n",
    "| $e$ | Eccentricity |\n",
    "| $M_0$ | Phase of Periapsis |\n",
    "| $d$ | Distance from Earth |\n",
    "\n",
    "That means, once you set all these parameters you can compute the model for RV and DI measurements at any time $t$. That will be the key ingredient for the likelihood in the next step.\n",
    "\n",
    "(Note: We left out $\\gamma$, the RV offset, because we'll have a list of instrumental parameters in section 4 below)."
   ]
  },
  {
   "cell_type": "markdown",
   "metadata": {},
   "source": [
    "### Implement and test\n",
    "\n",
    "Code up the equations above (yes, all of them...) and resurrect your Kepler solver from Assignment 3 (if you struggled with that problem in Assignment 3, check out the posted solution). For testing your code, assume a hypothetical planetary system with two bodies: our Sun and Jupiter. All the parameters you need are publicly available (e.g. [here](https://en.wikipedia.org/wiki/Jupiter)). Put this system at a distance of 10 pc with an inclination of 30$^\\circ$, and compute the model for the radial velocity signal and direct imaging locations over the span of one orbit. Plot both signals and label the axes, including units."
   ]
  },
  {
   "cell_type": "markdown",
   "metadata": {},
   "source": [
    "### Solution"
   ]
  },
  {
   "cell_type": "code",
   "execution_count": 10,
   "metadata": {},
   "outputs": [],
   "source": [
    "#import packages\n",
    "import numpy as np\n",
    "from astropy import units as un\n",
    "from astropy import constants as const\n",
    "import matplotlib.pyplot as plt\n",
    "import seaborn as sns"
   ]
  },
  {
   "cell_type": "code",
   "execution_count": 11,
   "metadata": {},
   "outputs": [],
   "source": [
    "# general orbital functions\n",
    "def keplers_eq(E, ecc,period,t,M0):\n",
    "    '''Kepler's equation as defined by the equation above is:\n",
    "    \n",
    "    E - e sin(E) - 2 pi/P *t - M0\n",
    "    \n",
    "    Parameters:\n",
    "    E: float. Eccentric anomaly, measured in radians\n",
    "    ecc: float. Eccentricity, unitless\n",
    "    period: float. Period of the orbit, measured in seconds\n",
    "    t: float. current time, measured in seconds\n",
    "    M0: float. phase of periapsis, measured in radians\n",
    "    \n",
    "    Returns:\n",
    "    Kepler's equation set to 0 (defined in the docstring of this function)'''\n",
    "    \n",
    "    return E - ecc*np.sin(E)- 2*np.pi*t/P + M0\n",
    "    \n",
    "def keplers_eq_grad(E,ecc):\n",
    "    '''first derivative of keplers equation wrt Eccentric anomaly\n",
    "    \n",
    "    Parameters:\n",
    "    E: float. Eccentric anomaly, measured in radians\n",
    "    ecc: float. Eccentricity, unitless\n",
    "    \n",
    "    Return:\n",
    "    d(Kepler)/dE: float. Derivative of Keplers equation wrt Eccentric anomaly '''\n",
    "    return 1-ecc*np.cos(E)\n",
    "\n",
    "\n",
    "def theta(E,ecc):\n",
    "    '''True anomaly for our orbit, defined by the equation above.\n",
    "    \n",
    "    Parameters:\n",
    "    E: float. Eccentric anomaly measured in radians. This will be obtained from Newton's method\n",
    "    ecc: float. Eccentricity, unitless\n",
    "    \n",
    "    Return:\n",
    "    theta: float. True anomaly, measured in radians'''\n",
    "    \n",
    "    theta_prime = np.arccos((np.cos(E) - ecc)/(1 - ecc*np.cos(E)))\n",
    "    theta = np.zeros(theta_prime.size)\n",
    "    \n",
    "    if E %(2*np.pi) <= np.pi: #check if the above equation means E > pi or E mod 2pi > pi \n",
    "        theta = theta_prime\n",
    "    else:\n",
    "        theta = 2*np.pi - theta_prime\n",
    "        \n",
    "    return theta\n"
   ]
  },
  {
   "cell_type": "code",
   "execution_count": 12,
   "metadata": {},
   "outputs": [],
   "source": [
    "# RV functions\n",
    "def K1(period,m1,m2,incl,ecc):\n",
    "    '''This function calculates the amplitude of the primary, K1, defined as above.\n",
    "    \n",
    "    Parameters:\n",
    "    period: float. Period of the orbit, in seconds.\n",
    "    m1: float. mass of the primary body, in kg\n",
    "    m2: float. mass of the companion body, in kg\n",
    "    incl: float. inclination of the orbit, in radians\n",
    "    ecc: float. eccentricity of the orbit, unitless\n",
    "    \n",
    "    Returns:\n",
    "    K1: float. amplitude of the primary in meters / second\n",
    "    '''\n",
    "    Grav = const.G.value\n",
    "    mtot = m1 + m2\n",
    "    K1 = (2*np.pi*Grav/period)**(1./3.)*m2*np.sin(incl)/mtot**(2./3.)/(np.sqrt(1-ecc**2))\n",
    "    \n",
    "    return K1\n",
    "\n",
    "def v_prime(E,ecc,period,m1,m2,incl,omega_1,gamma):\n",
    "    '''Calculates the radial velocity of the primary body due to the components motion\n",
    "    \n",
    "    Parameters:\n",
    "    E: float. Eccentric anomaly measured in radians. This will be obtained from Newton's method\n",
    "    ecc: float. Eccentricity, unitless\n",
    "    period: float. Period of the orbit, in seconds.\n",
    "    m1: float. mass of the primary body, in kg\n",
    "    m2: float. mass of the companion body, in kg\n",
    "    incl: float. inclination of the orbit, in radians\n",
    "    ecc: float. eccentricity of the orbit, unitless\n",
    "    omega_1: float. argument of periaps for the primary body, in radians\n",
    "    gamma: float. instrument velocity offset, in meters/second'''\n",
    "    \n",
    "    TH = theta(E,ecc)\n",
    "    K = K1(period,m1,m2,incl,ecc)\n",
    "    \n",
    "    v = K*(np.cos(TH+omega_1)+ecc*np.cos(omega_1))+gamma\n",
    "    return v"
   ]
  },
  {
   "cell_type": "code",
   "execution_count": 13,
   "metadata": {},
   "outputs": [],
   "source": [
    "#direct imaging functions\n",
    "def a_tot(period,m1,m2):\n",
    "    '''the total semi-major axis of the apparent ellipse, found from keplers third law\n",
    "    \n",
    "    Parameters:\n",
    "    period: float. Period of the orbit, in seconds.\n",
    "    mtot: float. total mass of the system, in kg\n",
    "    \n",
    "    Return:\n",
    "    a_tot: float. semi-major axis of the apparent ellipse, in m'''\n",
    "    mtot=m1+m2\n",
    "    grav = const.G.value\n",
    "    return (period**2*grav*mtot/(4*np.pi**2))**(1./3.)\n",
    "\n",
    "def Thiele_innes_constants(period,m1,m2,asc_node_2,per_arg_2,incl):\n",
    "    '''The four Thiele Innes Constants needed to find the location of the companion in a coordinate \n",
    "    system centered about the primary body. The constants are A, B, F, and G, and are \n",
    "    returned in an array containing them in that order.\n",
    "    \n",
    "    Parameters:\n",
    "    period: float. Period of the orbit, in seconds.\n",
    "    mtot: float. total mass of the system, in kg\n",
    "    asc_node_2: float. Longitue of the ascending node for the companion body, in radians\n",
    "    per_arg_2: float. argument of periaps for the companion body, in radians\n",
    "    incl: float. inclination of the orbit, in radians\n",
    "    \n",
    "    Return:\n",
    "    constants: np.ndarray. Contains the four constants A, B, F and G in that order. All are measured in meters'''\n",
    "    \n",
    "    a_ = a_tot(period,m1, m2)\n",
    "    constants = np.zeros(4)\n",
    "    \n",
    "    A = a_*(np.cos(asc_node_2)*np.cos(per_arg_2) \\\n",
    "            -np.sin(asc_node_2)*np.sin(per_arg_2)*np.cos(incl))\n",
    "    \n",
    "    B = a_*(np.sin(asc_node_2)*np.cos(per_arg_2) \\\n",
    "            + np.cos(asc_node_2)*np.sin(per_arg_2)*np.cos(incl))\n",
    "    \n",
    "    F = a_*(-np.cos(asc_node_2)*np.sin(per_arg_2) \\\n",
    "            - np.sin(asc_node_2)*np.cos(per_arg_2)*np.cos(incl))\n",
    "    \n",
    "    G = a_*(-np.sin(asc_node_2)*np.sin(per_arg_2) \\\n",
    "            + np.cos(asc_node_2)*np.cos(per_arg_2)*np.cos(incl))\n",
    "    \n",
    "    i = 0\n",
    "    for c in [A,B,F,G]:\n",
    "        constants[i] = c\n",
    "        i+=1\n",
    "        \n",
    "    return constants\n",
    "\n",
    "def X_Y(E,ecc):\n",
    "    '''X and Y to use in the Thiele Innes Method\n",
    "    \n",
    "    Parameters:\n",
    "    E: float. Eccentric anomaly, measured in radians\n",
    "    ecc: float. Eccentricity, unitless\n",
    "    \n",
    "    Return:\n",
    "    X_Y: np.ndarray. array containing X(t) and Y(t), both measured in radians\n",
    "    '''\n",
    "    X = np.cos(E)-ecc\n",
    "    Y = np.sqrt(1-ecc**2)*np.sin(E)\n",
    "    \n",
    "    X_Y = np.array([X,Y])\n",
    "    \n",
    "    return X_Y\n",
    "\n",
    "def delta_ra_delta_dec(d,E,ecc,period,m1,m2,asc_node_2,per_arg_2,incl):\n",
    "    '''relative right ascension and declination for comparison to the data.\n",
    "    \n",
    "    Parameters:\n",
    "    d: float. distance from the earth to this system\n",
    "    E: float. Eccentric anomaly, measured in radians\n",
    "    ecc: float. Eccentricity, unitless\n",
    "    period: float. Period of the orbit, in seconds.\n",
    "    mtot: float. total mass of the system, in kg\n",
    "    asc_node_2: float. Longitue of the ascending node for the companion body, in radians\n",
    "    per_arg_2: float. argument of periaps for the companion body, in radians\n",
    "    incl: float. inclination of the orbit, in radians\n",
    "\n",
    "    Return:\n",
    "    rel_angles: np.ndarray. Array holding the relative right ascension and declinations of the companion body to \n",
    "    the primary body, both in radians\n",
    "    '''\n",
    "    \n",
    "    X,Y = X_Y(E,ecc)\n",
    "    A,B,F,G = Thiele_innes_constants(period,m1,m2,asc_node_2,per_arg_2,incl)\n",
    "    \n",
    "    del_alpha =1/d*(B*X + G*Y)\n",
    "    del_delta = 1/d*(A*X + F*Y)\n",
    "    \n",
    "    rel_angles = np.array([del_alpha,del_delta])\n",
    "    \n",
    "    return rel_angles"
   ]
  },
  {
   "cell_type": "markdown",
   "metadata": {},
   "source": [
    "For Jupiter and the Sun, we have:\n",
    "\n",
    "| Symbol | Name | Value |\n",
    "| ------ | ---- | ---- | \n",
    "| $P$ | Orbital period | 11.862 years $\\approx$ 3.743 x 10$^{8}$ s |\n",
    "| $m_1$ | Mass of the primary star | 1 $M_\\odot$ $\\approx$ 1.989 x $10^{30}$ kg |\n",
    "| $m_2$ | Mass of the companion | 1 $M_{Jup} \\approx$ 1.8982 x $10^{27}$ kg |\n",
    "| $\\Omega_2$ | Longitude of the Ascending Node | 100.464$^\\circ \\approx$ 1.7534276 rad |\n",
    "| $\\omega_2$ | Argument of Periapsis | 273.867$^\\circ \\approx$ 4.7798809 rad|\n",
    "| $i$ | Inclination | 30$^\\circ = \\pi/6$ rad |\n",
    "| $e$ | Eccentricity | 0.0489 |\n",
    "| $M_0$ | Phase of Periapsis | 20.02$^\\circ \\approx$ 0.349 rad CHECK THIS ONE |\n",
    "| $d$ | Distance from Earth | 10 pc $\\approx$ 3.086 x $10^{17}$ m |"
   ]
  },
  {
   "cell_type": "code",
   "execution_count": 14,
   "metadata": {},
   "outputs": [
    {
     "name": "stdout",
     "output_type": "stream",
     "text": [
      "Period = 374336251.2\n",
      "Mass of Sun = 1.988409870698051e+30\n",
      "Mass of Jupiter = 1.8981245973360505e+27\n",
      "Longitude of the Ascending Node = 1.7534275797235832\n",
      "Argument of Periapsis = 4.7798808625593106\n",
      "Inclination = 0.5235987755982988\n",
      "Eccentricity = 0.0489\n",
      "Phase of Periapsis = 0.3494149162492648\n",
      "time of periapsis =  20817254.858400002\n",
      "Distance from Earth = 3.0856775814671917e+17\n"
     ]
    }
   ],
   "source": [
    "P = ((11.862*un.yr).to(un.s)).value\n",
    "m1 = ((1*un.M_sun).to(un.kg)).value\n",
    "m2 = ((1*un.M_jup).to(un.kg)).value\n",
    "mtot = m1 + m2\n",
    "long_asc_2 = ((100.464*un.deg).to(un.rad)).value\n",
    "arg_periaps_2 =((273.867*un.deg).to(un.rad)).value\n",
    "long_asc_1 = long_asc_2 + np.pi\n",
    "arg_periaps_1 = arg_periaps_2 + np.pi\n",
    "incl = np.pi/6\n",
    "ecc = 0.0489\n",
    "M0 = ((20.02*un.deg).to(un.rad)).value\n",
    "tau = (P*M0/(2*np.pi))\n",
    "d = ((10*un.pc).to(un.m)).value\n",
    "\n",
    "\n",
    "print('Period =',P)\n",
    "print('Mass of Sun =',m1)\n",
    "print('Mass of Jupiter =',m2)\n",
    "print(r'Longitude of the Ascending Node =',long_asc_2)\n",
    "print(r'Argument of Periapsis =',arg_periaps_2)\n",
    "print('Inclination =',incl)\n",
    "print('Eccentricity =',ecc)\n",
    "print(r'Phase of Periapsis =',M0)\n",
    "print('time of periapsis = ',tau)\n",
    "print('Distance from Earth =',d)"
   ]
  },
  {
   "cell_type": "code",
   "execution_count": 18,
   "metadata": {},
   "outputs": [],
   "source": [
    "def newton_raphson_kepler(guess_i,ecc,period,t,M0,itrn_max = 1000,eps = 1e-10):\n",
    "    '''Newton-Raphson Method for solving Keplers equation for Eccentric Anomaly\n",
    "    \n",
    "    Parameters:\n",
    "    guess_i: float. Initial guess for the root, in radians\n",
    "    ecc: float.  eccentricity of the orbit\n",
    "    period: float. period of the orbit in seconds\n",
    "    t: float. current time, in seconds\n",
    "    M0: float. Phase of periapsis, radians\n",
    "    itrn_max: int, optional. Maximum number of iterations to propegate NRI. Default is 1000\n",
    "    eps: float, optional. tolerance to find the root. Default is 10^-10\n",
    "    \n",
    "    Return:\n",
    "    float giving the value of the eccentric anomaly at a time t.\n",
    "    '''\n",
    "    \n",
    "    xold = guess_i              # initial guess for NR iteration\n",
    "\n",
    "    # begin NR iteration\n",
    "    notdone = True\n",
    "    itrtn = 0\n",
    "    \n",
    "    while (notdone and itrtn < itrn_max):\n",
    "        #print('iteration {}'.format(itrtn))\n",
    "        f = keplers_eq(xold,ecc,period,t,tau)   # compute f at guess\n",
    "        df = keplers_eq_grad(xold,ecc)       # compute df/dx at guess\n",
    "        \n",
    "        if (df != 0):               # if df/dx != 0, proceed\n",
    "            #print('continuing')\n",
    "            xnew = xold - f/df      # update guess using local slope\n",
    "            error = abs(xnew-xold)  # compute change in answer\n",
    "            if (error > eps*xnew):       # if change is more than tolerance\n",
    "                xold = xnew           # set update as new guess for next iter\n",
    "                root = xnew\n",
    "                itrtn += 1            # increment iteration counter\n",
    "            else:\n",
    "                root = xnew           # otherwise, accept as root\n",
    "                notdone = False\n",
    "            #print(\"At iteration %2d, the numerical root is %16.13f with \\\n",
    "                  #iteration error %.11e\" % (itrtn, xnew, error/xnew ))\n",
    "        else:\n",
    "            print(\"derivative is zero!\")\n",
    "            break\n",
    "        #print(error)\n",
    "\n",
    "    return root,itrtn"
   ]
  },
  {
   "cell_type": "markdown",
   "metadata": {},
   "source": [
    "#### First, we use our Kepler solver from Assignment 3 to get the eccentric anomalies."
   ]
  },
  {
   "cell_type": "code",
   "execution_count": 19,
   "metadata": {},
   "outputs": [],
   "source": [
    "num_timesteps = 5000\n",
    "#timesteps for 1 period\n",
    "t = np.linspace(0,P,num = num_timesteps) \n",
    "#array to store eccentric anomalies\n",
    "ecc_anoms = np.zeros(num_timesteps)\n",
    "#initial guess for eccentric anomaly\n",
    "ecc_guess_init = 0.0\n",
    "iterations = np.zeros(num_timesteps) #array to store iterations for NR\n",
    "\n",
    "for i in range(num_timesteps):\n",
    "    root,itrtn = newton_raphson_kepler(ecc_guess_init,ecc,P,t[i],M0=M0)\n",
    "    ecc_anoms[i] = root\n",
    "    iterations[i] = itrtn\n",
    "    #guess for the next timestep is the value from the previous one\n",
    "    ecc_guess_init = root"
   ]
  },
  {
   "cell_type": "markdown",
   "metadata": {},
   "source": [
    "#### Now, let's use the functions above to get the RV and Direct Imaging signal for this system."
   ]
  },
  {
   "cell_type": "code",
   "execution_count": 22,
   "metadata": {},
   "outputs": [],
   "source": [
    "v_primes = np.zeros(num_timesteps)\n",
    "ras_decs_jup = np.zeros((num_timesteps,2))\n",
    "\n",
    "for i in range(num_timesteps):\n",
    "    E = ecc_anoms[i]\n",
    "    v_primes[i] = v_prime(E,ecc,P,m1,m2,incl,arg_periaps_1,gamma=0)\n",
    "    ras_decs_jup[i,:] = delta_ra_delta_dec(d,E,ecc,P,m1,m2,long_asc_2,arg_periaps_2,incl)\n",
    "\n",
    "#converting the angles to arcseconds so the plot has more appropriate units later\n",
    "ras_decs_jup = (ras_decs_jup*un.rad).to(un.arcsec)"
   ]
  },
  {
   "cell_type": "markdown",
   "metadata": {},
   "source": [
    "#### And we plot the RV signal below"
   ]
  },
  {
   "cell_type": "code",
   "execution_count": 23,
   "metadata": {},
   "outputs": [
    {
     "data": {
      "image/png": "[encoded data removed]",
      "text/plain": [
       "<Figure size 1152x864 with 1 Axes>"
      ]
     },
     "metadata": {},
     "output_type": "display_data"
    }
   ],
   "source": [
    "sns.set_style('darkgrid')\n",
    "fig = plt.figure(figsize = (16,12))\n",
    "plt.plot(t/P,v_primes)\n",
    "\n",
    "plt.xlabel('Time (periods)',fontsize = 16)\n",
    "plt.ylabel('Solar RV signal (m/s)',fontsize = 16)\n",
    "plt.title('RV signal for Jupiter-Solar system at 30 degrees inclination',fontsize = 24)\n",
    "\n",
    "plt.show()"
   ]
  },
  {
   "cell_type": "markdown",
   "metadata": {},
   "source": [
    "#### Now for the direct imaging plot"
   ]
  },
  {
   "cell_type": "code",
   "execution_count": 24,
   "metadata": {},
   "outputs": [
    {
     "data": {
      "image/png": "[encoded data removed]",
      "text/plain": [
       "<Figure size 1152x864 with 1 Axes>"
      ]
     },
     "metadata": {},
     "output_type": "display_data"
    }
   ],
   "source": [
    "fig = plt.figure(figsize = (16,12))\n",
    "\n",
    "plt.plot(ras_decs_jup[:,0],ras_decs_jup[:,1],label='Apparent Motion of Jupiter')\n",
    "plt.scatter(0,0,marker = '*',s = 300,color = 'y',label ='Sun')\n",
    "\n",
    "plt.xlabel('RA (arcsec)',fontsize = 14)\n",
    "plt.ylabel('DEC (arcsec)',fontsize = 14)\n",
    "\n",
    "plt.title('Motion of Jupiter from 10 pc away at an inclination of 30 degrees',fontsize = 20)\n",
    "\n",
    "plt.legend()\n",
    "plt.show()"
   ]
  },
  {
   "cell_type": "markdown",
   "metadata": {},
   "source": [
    "Seems like our functions are working. The RV signal was sinusoidal, which we expect for a periodic orbit. The direct imaging signal shows a closed orbit centered around (0,0)."
   ]
  },
  {
   "cell_type": "markdown",
   "metadata": {},
   "source": [
    "## 4. MCMC Inference (10pts)\n",
    "\n",
    "For a likelihood, we need a signal model (section 3 above) and an error model. We follow the paper and adopt their Gaussian likelihood (eq. 3). For clarity, we expand the second (DI) term: \n",
    "\n",
    "$$\n",
    "\\begin{align}\n",
    "\\log{\\mathcal{L}} = &-\\frac{1}{2}\\sum_i{\\left[\\frac{(v_i-v(t_i))^2}{\\sigma_i^2 + \\sigma_{\\rm jit}^2} + \\log(2\\pi) + \\log(\\sigma_i^2+\\sigma_{\\rm jit}^2)\\right]}\\\\\n",
    "&-\\frac{1}{2}\\sum_j{\\left[(x_j-x(t_j))^T\\Sigma_j^{-1}(x_j-x(t_j)) + \\log(2\\pi) + 2\\log(\\sigma_{j,r}) + 2\\log(\\sigma_{j,\\phi})\\right]}\n",
    "\\end{align}\n",
    "$$\n",
    "\n",
    "where $i$ is the index of the RV measurements and $j$ the index for the DI measurements. The two coordinates for the separation of the secondary from the primary are combined into $x_j$, which in this paper is expressed in polar coordinates (see their Table 3):\n",
    "\n",
    "$$\n",
    "\\begin{align}\n",
    "&x_j = (r_j, \\phi_j)\\\\\n",
    "\\text{with}\\ &r_j = \\sqrt{\\Delta\\alpha_j^2 + \\Delta\\delta_j^2}\\\\\n",
    "&\\phi_j = \\mathrm{atan2}(\\Delta\\delta_j, \\Delta\\alpha_j)\n",
    "\\end{align}\n",
    "$$\n",
    "\n",
    "The associated covariance matrix is\n",
    "\n",
    "$$\n",
    "\\Sigma_j = \\begin{pmatrix} \\sigma_{j,r}^2 & 0\\\\ 0 & \\sigma_{j,\\phi}^2\\end{pmatrix}.\n",
    "$$\n",
    "\n",
    "The likelihood explicitly accounts for the amount of noise in each of the observables and allows for a jitter component $\\sigma_{\\rm jit}$, which we don't yet know (i.e. it'll be a parameter).\n",
    "\n",
    "In a slight simplification we will assume that the instrumental parameters are unknown but constant (the paper splits them into two: one before and one after an instrument upgrade), which means we have two extra parameters that characterize the instrument:\n",
    "\n",
    "| Parameter | Name |\n",
    "| --------- | ---- |\n",
    "| $\\gamma$  | RV offset |\n",
    "| $\\sigma_{\\rm jit}$ | RV jitter |\n",
    "\n",
    "### 4.1. Code up the likelihood with the full set of parameters"
   ]
  },
  {
   "cell_type": "code",
   "execution_count": 25,
   "metadata": {},
   "outputs": [],
   "source": [
    "def log_like(params,_,a):\n",
    "    '''Log Likelihood given by this paper'''\n",
    "    \n",
    "    v_i, v_t_i, sig_i, sig_jit, x_j, x_t_j, sig_j_r, sig_j_phi = params\n",
    "    \n",
    "    sig_cov_inv = [[1/(sig_j_r**2),0],[0,1/sig_j_phi**2]]\n",
    "    \n",
    "    RV_term = sum((v_i - v_t_i)**2/(sig_i**2 + sig_jit**2) + np.log(2*np.pi) + np.log(sig_i**2 + sig_jit**2))\n",
    "    DI_term = sum((x_j - x_t_j).T@sig_cov_inv@(x_j - x_t_j) + np.log(2*np.pi) + 2*np.log(sig_j_r)+ 2*np.log(sig_j_phi))\n",
    "    \n",
    "    return -0.5*RV_term - 0.5*DI_term"
   ]
  },
  {
   "cell_type": "markdown",
   "metadata": {},
   "source": [
    "### 4.2. Reparameterization and priors\n",
    "\n",
    "Table 4 in the paper shows the parameters the authors actually used. Many directly translate to our parameter listed above, but there are notable modifications. These are made to prevent bad things from happening (like negative periods $P$ with the usual log-trick) and to make it easier to define suitable priors.\n",
    "\n",
    "Implement all priors for their parameters. Ignore the last one ($\\gamma_j - \\gamma_k$) because we assume just one constant $\\gamma$, instead use flat priors on $\\gamma$ and $\\sigma_\\rm{jit}$. In addition, add a Gaussian prior on $d$ with the values from Table 1.\n",
    "\n",
    "Then write a function that maps their parameters onto ours, so that you can run the model you have created in section 3 with their parameters without touching your code from above:"
   ]
  },
  {
   "cell_type": "code",
   "execution_count": 26,
   "metadata": {},
   "outputs": [
    {
     "data": {
      "text/plain": [
       "array([[0.92096683, 0.82316191, 0.53301866, 0.7339743 ],\n",
       "       [0.32456718, 0.70778639, 0.02589941, 0.84855821]])"
      ]
     },
     "execution_count": 26,
     "metadata": {},
     "output_type": "execute_result"
    }
   ],
   "source": [
    "def log_prior(params):\n",
    "    \n",
    "    m1, m2, log_p, sqrt_e_cos_peri, sqrt_e_sin_peri, long_asc_node, cos_inc, dist, gamma, sig_jit = params\n",
    "    \n",
    "    m1 = np.random.normal(0.8*un.M_sun, 0.05*un.M_sun)\n",
    "    m2 = numpy.random.uniform(0.24*un.M_sun, 1.44*un.M_sun)\n",
    "    log_p = numpy.random.uniform(1e2*un.year, 1e4*un.year)\n",
    "    sqrt_e_cos_peri = numpy.random.uniform(0.0*un.deg, 1.0*un.deg)\n",
    "    sqrt_e_sin_peri = numpy.random.uniform(0.0*un.deg, 1.0*un.deg)\n",
    "    long_asc_node = numpy.random.uniform(0.0, 2*np.pi)\n",
    "    phase_peri = numpy.random.uniform(0.0*un.deg, 2*np.pi*un.deg)\n",
    "    cos_inc = numpy.random.uniform(-1.0, 1.0)\n",
    "    dist = np.random.normal(21.68un.pc, 0.01*un.pc)\n",
    "    gamma = 1\n",
    "    sig_jit = 1\n",
    "    #  they also have a parameter that's pi?\n",
    "    # also wasn't sure what to return - the sum (like in assignment 5)?\n",
    "\n",
    "def map_params(params):\n",
    "    m1, m2, log_p, sqrt_e_cos_peri, sqrt_e_sin_peri, long_asc_node, cos_inc, dist, gamma, sig_jit = params\n",
    "    \n",
    "    P = np.exp(p)\n",
    "    arg_periapsis_2 = np.arctan(sqrt_e_sin_peri/qrt_e_cos_peri)\n",
    "    arg_periapsis_1 = arg_periapsis_2 +np.pi\n",
    "    ecc = (sqrt_e_sin_peri/np.sin(arg_periapsis_2))**2\n",
    "    long_asc_2 =  long_asc_node\n",
    "    long_asc_1 = long_asc_2 + np.pi\n",
    "    incl = np.arccos(cos_inc)\n",
    "    M0 = phase_peri\n",
    "    d = dist\n",
    "    "
   ]
  },
  {
   "cell_type": "markdown",
   "metadata": {},
   "source": [
    "### 4.3. Run emcee\n",
    "\n",
    "Adopt reasonable starting values for all parameters (e.g. from the middle of the prior intervals), construct a number of ensemble walkers, and run `emcee`. Be clear, the inference is run _with their parameterization_ (i.e. with e.g. $\\sqrt{e}\\cos(\\omega)$) and internally converted to our parameters (with the function from 4.2) for orbit calculations.\n",
    "\n",
    "Check the convergence and autocorrelation length of the chains. Discard the burn-in phase and thin out the chains. Then make your version of their Fig. 6 with `corner` (note that here they use our parameters) and of Fig. 7 (just don't use color for the orbit predictions):"
   ]
  },
  {
   "cell_type": "code",
   "execution_count": null,
   "metadata": {},
   "outputs": [],
   "source": []
  },
  {
   "cell_type": "markdown",
   "metadata": {},
   "source": [
    "## 5. Evidence (3pts)\n",
    "\n",
    "This paper does not compute the Bayesian evidence to check if the presence of the companion is statistically significant. Explain in a few sentences: why not?\n",
    "\n",
    "**Hint:** Think what the alternative hypothesis would be, i.e. one that doesn't involve a bound two-body system. Fig. 5 should be insightful."
   ]
  },
  {
   "cell_type": "code",
   "execution_count": null,
   "metadata": {},
   "outputs": [],
   "source": []
  }
 ],
 "metadata": {
  "kernelspec": {
   "display_name": "Python 3",
   "language": "python",
   "name": "python3"
  },
  "language_info": {
   "codemirror_mode": {
    "name": "ipython",
    "version": 3
   },
   "file_extension": ".py",
   "mimetype": "text/x-python",
   "name": "python",
   "nbconvert_exporter": "python",
   "pygments_lexer": "ipython3",
   "version": "3.7.6"
  }
 },
 "nbformat": 4,
 "nbformat_minor": 4
}
