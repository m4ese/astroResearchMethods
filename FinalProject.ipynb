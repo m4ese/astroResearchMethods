{
 "cells": [
  {
   "cell_type": "markdown",
   "metadata": {},
   "source": [
    "# Discovery of White Dwarf Companion\n",
    "\n",
    "In [this](https://iopscience.iop.org/article/10.3847/1538-4357/ab1b11) paper from 2019, the authors report on the discovery of a white dwarf orbiting around another star. We will explore how they came to this conclusion.\n",
    "\n",
    "*Please fill out the relevant cells below according to the instructions. When done, save the notebook and export it to PDF, upload the PDF file to Canvas. For handwritten or other submissions, convert to PDF and upload the resulting document to Canvas.*"
   ]
  },
  {
   "cell_type": "markdown",
   "metadata": {},
   "source": [
    "## Group Members\n",
    "\n",
    "*Group submission with up to 3 students is highly encouraged. If you submit as part of group, list all group members with their contributions to this assignment, e.g.*\n",
    "\n",
    "* Adam Applegate (solved problem 1; prepared the data for problem 2)\n",
    "* Beatrix Brahms (made plots for problem 1; implemented problem 2 in python)\n",
    "* ...\n",
    "\n",
    "---"
   ]
  },
  {
   "cell_type": "markdown",
   "metadata": {},
   "source": [
    "## 1. Digest the paper (6pts)\n",
    "\n",
    "The paper is a protoypical example of modern astrophysics literature (including some casual sloppiness). It has an introduction that motivates the work; a data section; several analysis sections; a discussion; and conclusions.\n",
    "\n",
    "Here's what you need to find out:\n",
    "1. What have these authors actually done, i.e. what are the main steps of their work (e.g. did they observe themselves or take data from somebody else)?\n",
    "2. How did they process and analyze the data, and how can you get them?\n",
    "3. Why is this work relevant? What do we know now that we didn't know before?\n",
    "\n",
    "Write a few sentences on each of these items.\n",
    "\n",
    "A few tips on reading papers:\n",
    "* Make a shallow pass first, try to get to the overall intent and main aspects. Then dive in and read in detail.\n",
    "* Don't despair when you can't follow the abstract. It's crammed and full of jargon. Instead, read the conclusion section, it's often a much better summary.\n",
    "* Make notes while you read. Print the PDF and scribble on it or use a tablet with a stylus, but keep the notes visually together with the place in the paper they refer to."
   ]
  },
  {
   "cell_type": "markdown",
   "metadata": {},
   "source": [
    "The paper \"Discovery of a White Dwarf Companion to HD 159062\" by Hirsch et al. used radial velocity (RV) data to prove the existence of a white dwarf companion to the late G dwarf star, HD 159062. Although a white dwarf companion to HD 159602 was alluded to in Fuhrmann et all. in 2017, Hirsch et al. were the first to properly observe and report on it.\n",
    "\n",
    "- The RV data used in this paper was collected by the HIRES at the W.M Keck Observatory over 14 years. Further multi-epoch, multi-band imaging observations were used from the ShaneAO system at Lick Observatory, PHARO at Palomar Observatory, and NIRC2 at Keck observatory. The authors of this paper primarily worked with and manipulated the data to obtain their results. \n",
    "\n",
    "- We can access this data through $\\href{http://simbad.u-strasbg.fr/simbad/sim-id?Ident=HD+159062}{SIMBAD}$ (an astronomical database)\n",
    "\n",
    "- HIRES data (I): To reduce the spectra, a CPS pipeline was used. For each epoch, the absorption lines from starlight in cells containing molecular iodine were used as a high-fidelity wavelength calibration and PSF reference. The radial velocity and its uncertainties were then extracted for each chunk of the spectrum per epoch.\n",
    "\n",
    "- ShaneAO data: Hirsch et al. used images in the $K_s$ band from the ShaneAO system. The primary star's PSF was subtracted from the image to obtain relative flux values for it as well as its companion using a high-pass filtered version of the original image. \n",
    "    \n",
    "- Keck/NIRC2 data:  Images of HD 159062 in the $L'$ band were used as well, taken wiht Keck NIRC2. Sky background frames were subtracted from each frame indivudally. Principal component analysis was used to estimate and subtract the stellar contribution from the images. A copy of the off-axis PSF at the location of the white dwarf was subtracted as well. These steps were repeated to produce an image where the companion star was clearly resolved.\n",
    "\n",
    "- Putting the data together: the RV data obtained from the HIRES observations was finally used to rule out HD 159062 B as a brown dwarf. Newton's second law was used to obtain its mass, found to be larger than the upper limit on brown dwarfs. Furthermore, the colors from the images in infrared show that the star is not a brown dwarf. However, the images and measurement of its mass are consistent with those of a white dwarf, solidifying the companion star's classification.\n",
    "    \n",
    "- On the implications of the results: HD 159062 is a main sequence star, unique for Ba stars (which are typically G and K giants). The separation between HD 159062 and its companion star is wider than other known binaries of Ba or CH stars, and its orbital period is much longer as well. These results might be consistent with a process in which the white dwarf is \"kicked\" as it is formed. The unique propreties of this binary system suggest that there may be more binary systems that share these qualities that we have simply yet to identify, maybe due to this extra-large separation and faintness of the companion in images that have yet to be manipulated.\n",
    "    \n",
    "- In conclusion, the authors of the paper resolved telescope images through python programming to reveal a bright spot near HD 159062 (its companion). The methods, packages, and algorithms used were not novel, taken from a number of previously published papers (eg: QACITS tip-tilt control algorith - Huby et al. 2017, principal component analysis - Sounmer et al. 2012, Vortex Image Processing (VIP) software package - Gomez Gonzales et al.). Through their manipulation of the images, the authors of this paper were indeed able to prove the existence of a white dwarf companion star to HD 159062.\n",
    "\n",
    "\n",
    "\n"
   ]
  },
  {
   "cell_type": "markdown",
   "metadata": {},
   "source": [
    "## 2. Background: Radial Velocity and Direct Imaging (6pts)\n",
    "\n",
    "Describe briefly (about 5 sentences), in your own words, how radial velocity measurements work, what they tell us, and what the practical difficulties are.\n",
    "\n",
    "Do the same for Direct Imaging."
   ]
  },
  {
   "cell_type": "markdown",
   "metadata": {},
   "source": [
    "- The radial velocity method (also known as Doppler spectroscopy) uses the electromagnetic spectrum to obtain the velocity of stars. A high resolution spectrum is taken for a given star and its wavelengths are compared to those obtained in a laboratory condition. Through the shift of the wavelengths of the star's spectrum relative to those in the lab, the star's radial velocity can be obtained. If the wavelengths are shifted towards the red, the star is moving away from us, and if they are shifted towards blue, it is moving towards us. The formula for obtaining the raidal velocity is then $$\\Delta\\lambda/\\lambda_0=v_r/c$$ with $\\lambda_0$ = the wavelength measured in laboratory conditions, $\\Delta\\lambda$ = the separation between the two wavelengths, $v_r$ = the radial velocity, and c = light speed. The radial velocity method is useful fordetecting exoplanets and revealing some properties of binary systems of stars. The practical difficulties with this method are that it is not necessarily accurate when observing multiple stars or systems at once (as it may produce false signals) and it can only provide a lower bound on the mass of very distant stars. Furthermore, it can only be used to detect velocities that are perpendicular to earth, and is useless in cases where the plane of a star's orbit is parallel to earth (face-on when observed). Finally, variations in a star's brightness can lead to inconsistencies in measurements made using the radial velocity method.\n",
    "\n",
    "\n",
    "- The direct imaging method works by removing the glare of bright stars in images to reveal fainter exoplanets orbiting them. This method is extremely useful in helping to identify exoplanets directly, and can even help reveal their composition. The difficulties with this method are that it only works with stars of a specific wavelength (at infrared), because stars at this wavelength are typically only one million times brighter than a planet reflecting their light, while stars emitting lights at visible wavelength will typically be one billion times brighter than a planet reflecting their light. Furthermore, because the star is so much brighter than its companion, this method can only be uses when an exoplanet is either massive or orbiting far enough away from its star. Due to this necessary balance between a star's brightness and its orbiting exoplanet, this method can only be used in very specific, rare instances."
   ]
  },
  {
   "cell_type": "markdown",
   "metadata": {},
   "source": [
    "## 3. Extending the Two-Body Problem (10pts)\n",
    "\n",
    "The paper can be criticized for not providing any of the required theory behind orbital observations. Here it is:\n",
    "\n",
    "We have worked with the classic form of the Kepler problem in Assignments 3 and 4. We now need to extend it by connecting the predicted orbit to the measurements. The implicit Kepler equation\n",
    "\n",
    "$$\n",
    "M = E - e \\sin(E) = \\frac{2\\pi}{P}(t-t_0) = \\frac{2\\pi}{P}t-M_0\n",
    "$$\n",
    "\n",
    "connects the eccentric anomaly $E$ to the mean anomaly $M$ via the eccentricity $e$, the orbital period $P$, and the time $t_0$ of last periapsis. The paper uses (but does not define) $M_0 \\equiv \\tfrac{2\\pi}{P}t_0$. In other words, once you know $e$, $P$, and $t_0$ or $M_0$, you can predict an Keplerian orbit for any time $t$ (and you need to use e.g. Newton's method to solve for $E$)."
   ]
  },
  {
   "cell_type": "markdown",
   "metadata": {},
   "source": [
    "### Observations of the orbit\n",
    "\n",
    "We need to connect the elliptical orbit to observables, which means that we need to determine how we would see such an orbit from Earth.\n",
    "\n",
    "For **RV measurements**, we need to know how the star moves with respect to the common center of the two-body system. This requires the true anomaly $\\theta$ as a function of time, which is given by\n",
    "\n",
    "$$\n",
    "\\begin{split}\n",
    "\\theta(t) = \\begin{cases}\\theta^\\prime(t) & \\text{if}\\ E(t)\\leq \\pi \\\\ 2\\pi-\\theta^\\prime(t) & \\text{if}\\ E(t)>\\pi\\end{cases}\\\\\n",
    "\\text{where}\\ \\theta^\\prime(t) = \\cos^{-1}\\left(\\frac{\\cos\\left(E(t)\\right)-e}{1-e \\cos\\left(E(t)\\right)}\\right)\n",
    "\\end{split}\n",
    "$$\n",
    "\n",
    "The radial velocity of the primary due to the companion's motion is\n",
    "\n",
    "$$\n",
    "v(t) =  K_1\\left[\\cos\\left(\\theta(t)+\\omega_1\\right)+e \\cos(\\omega_1)\\right]+\\gamma\n",
    "$$\n",
    "\n",
    "where $\\omega_1$ is the Argument of Periapsis for the primary, $\\gamma$ is the instrument velocity offset and the amplitude of the primary ($K_1$) is \n",
    "\n",
    "$$\n",
    "K_1 = \\left[\\frac{2\\pi G}{P}\\right]^{1/3}\\frac{m_2\\sin(i)}{m_{\\rm tot}^{2/3}}\\frac{1}{\\sqrt{1-e^2}} \n",
    "$$\n",
    "\n",
    "with $G$ being Newton's gravitational constant, $m_2$ the companion's mass, $i$ the inclination, and $m_{\\rm tot} = m_1 + m_2$ the total mass of both objects.\n",
    "\n",
    "For **Direct Imaging**, we need to know the location of a companion in a coordinate system centered on the primary. That can be computed with the so-called Thiele-Innes method, which introduces four constants to summarize the orbital elements:\n",
    "\n",
    "$$\n",
    "\\begin{align}\n",
    "A &= a_{\\rm tot}\\left[\\cos(\\Omega_2)\\cos(\\omega_2)-\\sin(\\Omega_2)\\sin(\\omega_2)\\cos(i)\\right]\\\\\n",
    "B &= a_{\\rm tot}\\left[\\sin(\\Omega_2)\\cos(\\omega_2)+\\cos(\\Omega_2)\\sin(\\omega_2)\\cos(i)\\right]\\\\\n",
    "F &= a_{\\rm tot}\\left[-\\cos(\\Omega_2)\\sin(\\omega_2)-\\sin(\\Omega_2)\\cos(\\omega_2)\\cos(i)\\right]\\\\\n",
    "G &= a_{\\rm tot}\\left[-\\sin(\\Omega_2)\\sin(\\omega_2)+\\cos(\\Omega_2)\\cos(\\omega_2)\\cos(i)\\right] .\n",
    "\\end{align}\n",
    "$$\n",
    "\n",
    "The total semi-major axis of the apparent ellipse ($a_{\\rm tot}$) is calculated with Kepler's third law,\n",
    "\n",
    "$$\n",
    "a_{\\rm tot} = \\left[\\frac{P^2G m_{\\rm tot}}{4\\pi^2} \\right]^{1/3}\n",
    "$$\n",
    "\n",
    "with $G$ being again Newton's gravitational constant, not Thiele-Innes' $G$ (sorry, that symbol conflict is a known one in orbital mechanics, accept it and move on).\n",
    "\n",
    "Thiele-Innes constants give the relative location of the secondary with respect to the primary in the plane of the sky. The matching relative right ascension $\\Delta \\alpha$ and declination $\\Delta \\delta$ for comparison to the data are found by turning distances into angles, assuming the distance $d$ to the star (which is given in Table 1):\n",
    "\n",
    "$$\n",
    "\\begin{align}\n",
    "&\\Delta \\delta(t) = \\frac{1}{d}\\left[A\\,X(t)+F\\,Y(t)\\right]\\\\\n",
    "&\\Delta \\alpha(t) = \\frac{1}{d}\\left[B\\,X(t) + G\\,Y(t)\\right]\\\\\n",
    "\\text{with} \\ \\\n",
    "&X(t) = \\cos(E(t))-e\\\\\n",
    "&Y(t) = \\sqrt{1-e^2}\\sin(E(t))\n",
    "\\end{align}\n",
    "$$\n",
    "\n",
    "The orbits of primary (for RV) and secondary (for DI) are not independent. In fact (by virtue of Newton's third law of motion), the orbits of the two bodies have matching values for all the orbital elements except $\\Omega$ and $\\omega$.  To convert between them, the relations are $\\omega_1 = \\omega_2 +\\pi$ and $\\Omega_1 = \\Omega_2 +\\pi$."
   ]
  },
  {
   "cell_type": "markdown",
   "metadata": {},
   "source": [
    "### Summary of Parameters\n",
    "\n",
    "With all the theory out of the way, let's get a top-level view of the problem (more details and a useful schematic are given [here](https://en.wikipedia.org/wiki/Orbital_elements)). The fundamental parameters of the problem are\n",
    "\n",
    "| Symbol | Name |\n",
    "| ------ | ---- |\n",
    "| $P$ | Orbital period |\n",
    "| $m_1$ | Mass of the primary star |\n",
    "| $m_2$ | Mass of the companion |\n",
    "| $\\Omega_2$ | Longitude of the Ascending Node |\n",
    "| $\\omega_2$ | Argument of Periapsis |\n",
    "| $i$ | Inclination |\n",
    "| $e$ | Eccentricity |\n",
    "| $M_0$ | Phase of Periapsis |\n",
    "| $d$ | Distance from Earth |\n",
    "\n",
    "That means, once you set all these parameters you can compute the model for RV and DI measurements at any time $t$. That will be the key ingredient for the likelihood in the next step.\n",
    "\n",
    "(Note: We left out $\\gamma$, the RV offset, because we'll have a list of instrumental parameter in section 4 below)."
   ]
  },
  {
   "cell_type": "markdown",
   "metadata": {},
   "source": [
    "### Implement and test\n",
    "\n",
    "Code up the equations above (yes, all of them...) and resurrect your Kepler solver from Assignment 3 (if you struggled with that problem in Assignment 3, check out the posted solution). For testing your code, assume a hypothetical planetary system with two bodies: our Sun and Jupiter. All the parameters you need are publicly available (e.g. [here](https://en.wikipedia.org/wiki/Jupiter)). Put this system at a distance of 10 pc with an inclination of 30$^\\circ$, and compute the model for the radial velocity signal and direct imaging locations over the span of one orbit. Plot both signals and label the axes, including units."
   ]
  },
  {
   "cell_type": "code",
   "execution_count": null,
   "metadata": {},
   "outputs": [],
   "source": []
  },
  {
   "cell_type": "markdown",
   "metadata": {},
   "source": [
    "## 4. MCMC Inference (10pts)\n",
    "\n",
    "For a likelihood, we need a signal model (section 3 above) and an error model. We follow the paper and adopt their Gaussian likelihood (eq. 3). For clarity, we expand the second (DI) term: \n",
    "\n",
    "$$\n",
    "\\begin{align}\n",
    "\\log{\\mathcal{L}} = &-\\frac{1}{2}\\sum_i{\\left[\\frac{(v_i-v(t_i))^2}{\\sigma_i^2 + \\sigma_{\\rm jit}^2} + \\log(2\\pi) + \\log(\\sigma_i^2+\\sigma_{\\rm jit}^2)\\right]}\\\\\n",
    "&-\\frac{1}{2}\\sum_j{\\left[(x_j-x(t_j))^T\\Sigma_j^{-1}(x_j-x(t_j)) + \\log(2\\pi) + 2\\log(\\sigma_{j,r}) + 2\\log(\\sigma_{j,\\phi})\\right]}\n",
    "\\end{align}\n",
    "$$\n",
    "\n",
    "where $i$ is the index of the RV measurements and $j$ the index for the DI measurements. The two coordinates for the separation of the secondary from the primary are combined into $x_j$, which in this paper is expressed in polar coordinates (see their Table 3):\n",
    "\n",
    "$$\n",
    "\\begin{align}\n",
    "&x_j = (r_j, \\phi_j)\\\\\n",
    "\\text{with}\\ &r_j = \\sqrt{\\Delta\\alpha_j^2 + \\Delta\\delta_j^2}\\\\\n",
    "&\\phi_j = \\mathrm{atan2}(\\Delta\\delta_j, \\Delta\\alpha_j)\n",
    "\\end{align}\n",
    "$$\n",
    "\n",
    "The associated covariance matrix is\n",
    "\n",
    "$$\n",
    "\\Sigma_j = \\begin{pmatrix} \\sigma_{j,r}^2 & 0\\\\ 0 & \\sigma_{j,\\phi}^2\\end{pmatrix}.\n",
    "$$\n",
    "\n",
    "The likelihood explicitly accounts for the amount of noise in each of the observables and allows for a jitter component $\\sigma_{\\rm jit}$, which we don't yet know (i.e. it'll be a parameter).\n",
    "\n",
    "In a slight simplification we will assume that the instrumental parameters are unknown but constant (the paper splits them into two: one before and one after an instrument upgrade), which means we have two extra parameters that characterize the instrument:\n",
    "\n",
    "| Parameter | Name |\n",
    "| --------- | ---- |\n",
    "| $\\gamma$  | RV offset |\n",
    "| $\\sigma_{\\rm jit}$ | RV jitter |\n",
    "\n",
    "### 4.1. Code up the likelihood with the full set of parameters"
   ]
  },
  {
   "cell_type": "markdown",
   "metadata": {},
   "source": []
  },
  {
   "cell_type": "markdown",
   "metadata": {},
   "source": [
    "### 4.2. Reparameterization and priors\n",
    "\n",
    "Table 4 in the paper shows the parameters the authors actually used. Many directly translate to our parameter listed above, but there are notable modifications. These are made to prevent bad things from happening (like negative periods $P$ with the usual log-trick) and to make it easier to define suitable priors.\n",
    "\n",
    "Implement all priors for their parameters. Ignore the last one ($\\gamma_j - \\gamma_k$) because we assume just one constant $\\gamma$, instead use flat priors on $\\gamma$ and $\\sigma_\\rm{jit}$. In addition, add a Gaussian prior on $d$ with the values from Table 1.\n",
    "\n",
    "Then write a function that maps their parameters onto ours, so that you can run the model you have created in section 3 with their parameters without touching your code from above:"
   ]
  },
  {
   "cell_type": "code",
   "execution_count": null,
   "metadata": {},
   "outputs": [],
   "source": []
  },
  {
   "cell_type": "markdown",
   "metadata": {},
   "source": [
    "### 4.3. Run emcee\n",
    "\n",
    "Adopt reasonable starting values for all parameters (e.g. from the middle of the prior intervals), construct a number of ensemble walkers, and run `emcee`. Be clear, the inference is run _with their parameterization_ (i.e. with e.g. $\\sqrt{e}\\cos(\\omega)$) and internally converted to our parameters (with the function from 4.2) for orbit calculations.\n",
    "\n",
    "Check the convergence and autocorrelation length of the chains. Discard the burn-in phase and thin out the chains. Then make your version of their Fig. 6 with `corner` (note that here they use our parameters) and of Fig. 7 (just don't use color for the orbit predictions):"
   ]
  },
  {
   "cell_type": "code",
   "execution_count": null,
   "metadata": {},
   "outputs": [],
   "source": []
  },
  {
   "cell_type": "markdown",
   "metadata": {},
   "source": [
    "## 5. Evidence (3pts)\n",
    "\n",
    "This paper does not compute the Bayesian evidence to check if the presence of the companion is statistically significant. Explain in a few sentences: why not?\n",
    "\n",
    "**Hint:** Think what the alternative hypothesis would be, i.e. one that doesn't involve a bound two-body system. Fig. 5 should be insightful."
   ]
  },
  {
   "cell_type": "code",
   "execution_count": null,
   "metadata": {},
   "outputs": [],
   "source": []
  }
 ],
 "metadata": {
  "kernelspec": {
   "display_name": "Python 3",
   "language": "python",
   "name": "python3"
  },
  "language_info": {
   "codemirror_mode": {
    "name": "ipython",
    "version": 3
   },
   "file_extension": ".py",
   "mimetype": "text/x-python",
   "name": "python",
   "nbconvert_exporter": "python",
   "pygments_lexer": "ipython3",
   "version": "3.7.6"
  }
 },
 "nbformat": 4,
 "nbformat_minor": 4
}
