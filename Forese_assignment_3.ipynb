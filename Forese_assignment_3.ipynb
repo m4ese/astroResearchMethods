{
 "cells": [
  {
   "cell_type": "markdown",
   "metadata": {},
   "source": [
    "# Assignment 3\n",
    "\n",
    "*Due on October 28th, 2020*"
   ]
  },
  {
   "cell_type": "markdown",
   "metadata": {},
   "source": [
    "## Group Members\n",
    "\n",
    "* Shai Slav\n",
    "* Mark Forese\n"
   ]
  },
  {
   "cell_type": "code",
   "execution_count": 1,
   "metadata": {},
   "outputs": [],
   "source": [
    "from astropy import units as u\n",
    "import numpy as np\n",
    "import matplotlib.pyplot as plt"
   ]
  },
  {
   "cell_type": "markdown",
   "metadata": {},
   "source": [
    "### Problem One: Thermal Equilibrium in the Interstellar Medium (ISM)"
   ]
  },
  {
   "cell_type": "markdown",
   "metadata": {},
   "source": [
    "#### Part A (1 point)\n",
    "* I could give you a trial solution with which to start, but I won’t. That’d be too easy.\n",
    "* “Ahhh,” you say, “but I can just plot (3) for a particular density to visually obtain my trial solution.” I’m not going to let you do that either. \n",
    "* Instead, I’d like you to write a program to figure out approximately where the root lies using the method of bracketing. \n",
    "* The idea is simple: \n",
    "<ol> <li> Choose two endpoints, T1 and T2 </li>\n",
    "    <li> if L(n, T<sub>1</sub>) and L(n, T<sub>2</sub>) have opposite signs, then at least one root must lie in that interval </li>\n",
    "</ol> \n",
    "* My advice is to start by setting n = 10−2, T1 = 6000, and T2 = 6001; it’s easy to check by substitution that L < 0 in this tiny range. Your program should increase T2 progressively\n",
    "* Numerical Recipes iteratively adds 1.6(T2 − T1) to it—until it finds L(n, T<sub>1</sub>)L(n, T<sub>2</sub>) < 0. Record this T<sub>2</sub>; a root lies somewhere between it and T1."
   ]
  },
  {
   "cell_type": "code",
   "execution_count": 79,
   "metadata": {},
   "outputs": [],
   "source": [
    "gamma = 2E-26*u.erg / u.s\n",
    "\n",
    "def lamb(T):\n",
    "    try:\n",
    "        T = T.value\n",
    "    except AttributeError:\n",
    "        pass\n",
    "        \n",
    "    lamb = gamma *(1e7*np.exp(-1.184e5 / (T + 1000)) + 1.4e-2*np.sqrt(T)*np.exp(-92/T))*u.cm**3\n",
    "    return lamb\n",
    "\n",
    "def L(n,T):\n",
    "    return (n*lamb(T)).value - gamma.value\n",
    "\n",
    "def find_bracket(n,T_1_start,T_2_start):\n",
    "    L1 = L(n,T_1_start)\n",
    "    L2 = L(n,T_2_start)\n",
    "    \n",
    "    T_1 = T_1_start\n",
    "    T_2 = T_2_start\n",
    "    counter = 0\n",
    "    \n",
    "    while(L1*L2 > 0 ):\n",
    "        counter+=1\n",
    "        T_2 += 1.6*(T_2-T_1)\n",
    "        L2 = L(n,T_2)\n",
    "        \n",
    "    return [(T_1,T_2),counter]"
   ]
  },
  {
   "cell_type": "code",
   "execution_count": 80,
   "metadata": {},
   "outputs": [],
   "source": [
    "n = 1E-2/u.cm**3\n",
    "T_1_start = 6000*u.K\n",
    "T_2_start = 6001*u.K\n",
    "\n",
    "#print(L(n,T_1_start))\n",
    "#print(L(n,T_2_start))\n",
    "\n",
    "bracket = find_bracket(n,T_1_start,T_2_start)"
   ]
  },
  {
   "cell_type": "code",
   "execution_count": 81,
   "metadata": {},
   "outputs": [
    {
     "name": "stdout",
     "output_type": "stream",
     "text": [
      "The bracket is [6000 K, 11430 K], which we found in 9 iterations\n"
     ]
    }
   ],
   "source": [
    "print('The bracket is [{:.0f}, {:.0f}], which we found in {} iterations'.format(bracket[0][0],bracket[0][1],bracket[1]))"
   ]
  },
  {
   "cell_type": "markdown",
   "metadata": {},
   "source": [
    "#### Part B (2 points)\n",
    "\n",
    "* Using the bracketed interval you found in part (a), write a program to solve equation (3) for Teq when n = 10−2 using the bisection method. For your convergence criterion, accept a root as the “solution” once its value changes by < 10<sup>−10</sup> from one iteration to the next.\n",
    "\n",
    "* In other words, T<sub>eq</sub> = T<sub>i</sub> if after iteration i you have $\\epsilon_i ≡ \\frac{|Ti − T_{i−1}|}{Ti} \\leq 10^{-10}$.\n",
    "\n",
    "* Record how many iterations it took for your initial “guess” at the bracket midpoint $T_0 = \\frac{(T1 +T2)}{2}$ to converge to the “true” solution Teq; call it `Nbisiter`\n",
    "\n",
    "* Compare `Nbisiter` to the expected value of $\\log_2(\\epsilon_0/\\epsilon)$ steps to converge, where $\\epsilon_0 ≡ \\frac{|T2 − T1|}{T_{eq}}$ is the fractional size of the initial bracket"
   ]
  },
  {
   "cell_type": "code",
   "execution_count": 82,
   "metadata": {},
   "outputs": [
    {
     "name": "stdout",
     "output_type": "stream",
     "text": [
      "The root is 6000.0 K, which we found in 33 iterations.\n"
     ]
    }
   ],
   "source": [
    "def epsilon(T_1,T_2):\n",
    "    return np.abs(T_2 - T_1)/ T_2\n",
    "\n",
    "def bracket_midpoint(T_1,T_2):\n",
    "    return (T_1 + T_2)/2\n",
    "\n",
    "T_1 = bracket[0][0]\n",
    "T_2 = bracket[0][1]\n",
    "eps_0 = epsilon(T_1,T_2)\n",
    "\n",
    "eps = eps_0\n",
    "tolerance = 1e-10\n",
    "\n",
    "root = T_1\n",
    "\n",
    "Nbisiter = 0\n",
    "\n",
    "while(eps > 1e-10 and L(n,root)!=0):\n",
    "    Nbisiter += 1\n",
    "    #print(Nbisiter)\n",
    "    #print(eps)\n",
    "    midpoint = bracket_midpoint(T_1,T_2)\n",
    "    L_mid = L(n,midpoint)\n",
    "    \n",
    "    if L_mid ==0:\n",
    "        print('Found our root!')\n",
    "        root = midpoint\n",
    "        break\n",
    "        \n",
    "    elif L_mid*L(n,T_1) < 0:\n",
    "        #print('Changing values between T_1 and Midpoint')\n",
    "        T_2 = midpoint\n",
    "        \n",
    "    else:\n",
    "        #print('Changing values between T_2 and Midpoint')\n",
    "        T_1 = midpoint\n",
    "    \n",
    "    eps = epsilon(T_1,T_2)\n",
    "\n",
    "root_1 = T_1\n",
    "\n",
    "print('The root is {}, which we found in {itera} iterations.'.format(root,itera =Nbisiter))\n",
    "#print(L(n,root))"
   ]
  },
  {
   "cell_type": "code",
   "execution_count": 83,
   "metadata": {},
   "outputs": [
    {
     "name": "stdout",
     "output_type": "stream",
     "text": [
      "The expected number of iterations was 32.145410\n"
     ]
    }
   ],
   "source": [
    "iter_expected = np.log2(eps_0/tolerance)\n",
    "print('The expected number of iterations was %f' %iter_expected)"
   ]
  },
  {
   "cell_type": "markdown",
   "metadata": {},
   "source": [
    "**Our root was found in 33 iterations, which is very similar to the expected number of iterations needed, 32.145 (in fact they are identical when you take into account the fact that you can't have a fraction of an iteration)**"
   ]
  },
  {
   "cell_type": "markdown",
   "metadata": {},
   "source": [
    "#### Part C (5 points)\n",
    "\n",
    "Now that you have an accurate solution for Teq at n = 10<sup>−2</sup> , write a program to solve for T<sub>eq</sub> as a function of $n \\in [10^{−2} , 10^3]$ using Newton-Raphson iteration with a tolerance of $\\epsilon < 10^{−10}$ Note that you may use your converged answer $T_{eq}$ at $n = 10^{−2}$ as an initial guess for determining the equilibrium temperature at a slightly different density, say, $n = 10^{−1.96}$.\n",
    "\n",
    "This procedure of using the previously converged $T_{eq}$ as an initial guess for $T_{eq}$ at the next n can be repeated to scan across the full range of n, provided that $T_{eq}$ does not change too rapidly from one n to the next. \n",
    "\n",
    "When you finish, make two log-log plots: one for $T_{eq}$ vs. n, and one for the equilibrium pressure p<sub>eq</sub> ≡ n x $T_{eq}$ vs. n. There’s something pretty neat in the latter plot that I discuss below. . . for now, just note that L > 0 (< 0) above (below) this curve"
   ]
  },
  {
   "cell_type": "code",
   "execution_count": 100,
   "metadata": {},
   "outputs": [],
   "source": [
    "def grad_L(n,T):\n",
    "    try:\n",
    "        T = T.value\n",
    "    except AttributeError:\n",
    "        pass\n",
    "    \n",
    "    #calculated both of these terms by hand\n",
    "    \n",
    "    c = -1.184e5\n",
    "    first_term = -c*1e7*np.exp(c/(T+1000))/(T+1000)**2\n",
    "    \n",
    "    second_term = 1.4e-2*(0.5/np.sqrt(T)*np.exp(-92/T)+ 92/T**1.5*np.exp(-92/T))\n",
    "    \n",
    "    dlamb = gamma.value*(first_term + second_term)\n",
    "    \n",
    "    return n*dlamb\n",
    "'''\n",
    "def hess_L(n,T):\n",
    "    try:\n",
    "        T = T.value\n",
    "    except AttributeError:\n",
    "        print('This temperature does not have units')\n",
    "        pass\n",
    "    \n",
    "    #again, these second derivatives were calculated by hand and checked on a different piece of software\n",
    "    c = -1.184e5\n",
    "    first_term = 1e7*(2*c/(T+1000)**3 +c**2/(T+1000)**4)*np.exp(c/(T+1000))\n",
    "    second_term = 46*np.exp(-92/T)/T**2.5 - np.exp(-92/T)/(4*T**1.5) - 138 / T**2.5\n",
    "    \n",
    "    dlamb = gamma.value*(first_term+second_term)\n",
    "    \n",
    "    return n*dlamb'''\n",
    "    \n",
    "\n",
    "def newton_raphson(guess_i,n,itrn_max = 1000,eps = 1e-10):\n",
    "    xold = guess_i              # initial guess for NR iteration\n",
    "\n",
    "    # begin NR iteration\n",
    "    notdone = True\n",
    "    itrtn = 0\n",
    "    \n",
    "    while (notdone and itrtn < itrn_max):\n",
    "        f = L(n,xold)              # compute f at guess\n",
    "        df = grad_L(n,xold)       # compute df/dx at guess\n",
    "        if (df != 0):             # if df/dx != 0, proceed\n",
    "            xnew = xold - f/df      # update guess using local slope\n",
    "            error = abs(xnew-xold)  # compute change in answer\n",
    "            if (error > eps*xnew):  # if change is more than tolerance\n",
    "              xold = xnew           # set update as new guess for next iter\n",
    "              itrtn += 1            # increment iteration counter\n",
    "            else:\n",
    "              root = xnew           # otherwise, accept as root\n",
    "              notdone = False\n",
    "            #print(\"At iteration %2d, the numerical root is %16.13f with \\\n",
    "                  #iteration error %.11e\" % (itrtn, xnew, error/xnew ))\n",
    "        else:\n",
    "            print(\"derivative is zero!\")\n",
    "            break\n",
    "        \n",
    "    return root,itrtn"
   ]
  },
  {
   "cell_type": "code",
   "execution_count": 110,
   "metadata": {},
   "outputs": [],
   "source": [
    "n_exp_min = -2\n",
    "n_exp_max = 3\n",
    "\n",
    "n_exponent_array = np.linspace(start = n_exp_min, stop = n_exp_max, num = 126) #exponents from -2, -1.96, ... 3\n",
    "n_array = np.array([10**(exponent) for exponent in n_exponent_array])   #array of all the n values, no units\n",
    "n_array\n",
    "\n",
    "temp_solutions = np.zeros(len(n_array))\n",
    "num_iterations = np.zeros(len(n_array))\n",
    "\n",
    "temp_solutions[0] = root_1.value\n",
    "num_iterations[0] = Nbisiter\n",
    "\n",
    "for i in range(1,len(n_array)):\n",
    "    n = n_array[i]\n",
    "    root,num_iters = newton_raphson(temp_solutions[i-1],n)\n",
    "    temp_solutions[i] = root\n",
    "    num_iterations = num_iters\n",
    "    \n",
    "p_eq = n_array*temp_solutions"
   ]
  },
  {
   "cell_type": "code",
   "execution_count": 111,
   "metadata": {},
   "outputs": [
    {
     "data": {
      "text/plain": [
       "Text(0, 0.5, '$P_{eq} \\\\:[K \\\\; cm^{-3}]$ ')"
      ]
     },
     "execution_count": 111,
     "metadata": {},
     "output_type": "execute_result"
    },
    {
     "data": {
      "image/png": "[encoded data removed]",
      "text/plain": [
       "<Figure size 1152x864 with 2 Axes>"
      ]
     },
     "metadata": {
      "needs_background": "light"
     },
     "output_type": "display_data"
    }
   ],
   "source": [
    "fig = plt.figure(figsize = (16,12))\n",
    "\n",
    "ax_1 = plt.subplot(121)\n",
    "\n",
    "ax_1.set_xscale('log',basex = 10)\n",
    "ax_1.set_yscale('log',basey = 10)\n",
    "\n",
    "ax_1.plot(n_array,temp_solutions)\n",
    "ax_1.set_title(r'$T_{eq}$ vs. n',fontsize = 20,fontweight = 'bold')\n",
    "ax_1.set_xlabel(r'$n \\:[cm^{-3}]$',fontsize = 14,fontweight = 'bold')\n",
    "ax_1.set_ylabel(r'$T_{eq} \\:[K]$ ',fontsize = 14,fontweight = 'bold')\n",
    "\n",
    "ax_2 = plt.subplot(122)\n",
    "\n",
    "ax_2.set_xscale('log',basex = 10)\n",
    "ax_2.set_yscale('log',basey = 10)\n",
    "\n",
    "ax_2.plot(n_array,p_eq)\n",
    "ax_2.set_title(r'$P_{eq}$ vs. n',fontsize = 20,fontweight = 'bold')\n",
    "ax_2.set_xlabel(r'$n \\:[cm^{-3}]$',fontsize = 14,fontweight = 'bold')\n",
    "ax_2.set_ylabel(r'$P_{eq} \\:[K \\; cm^{-3}]$ ',fontsize = 14,fontweight = 'bold')"
   ]
  },
  {
   "cell_type": "code",
   "execution_count": null,
   "metadata": {},
   "outputs": [],
   "source": []
  }
 ],
 "metadata": {
  "kernelspec": {
   "display_name": "Python 3",
   "language": "python",
   "name": "python3"
  },
  "language_info": {
   "codemirror_mode": {
    "name": "ipython",
    "version": 3
   },
   "file_extension": ".py",
   "mimetype": "text/x-python",
   "name": "python",
   "nbconvert_exporter": "python",
   "pygments_lexer": "ipython3",
   "version": "3.7.3"
  }
 },
 "nbformat": 4,
 "nbformat_minor": 2
}
