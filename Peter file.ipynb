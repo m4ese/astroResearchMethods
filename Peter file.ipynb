{
 "cells": [
  {
   "cell_type": "code",
   "execution_count": 1,
   "metadata": {},
   "outputs": [
    {
     "data": {
      "text/plain": [
       "(array([31579., 12864., 10295.,  8404.,  7456.,  6736.,  6257.,  5869.,\n",
       "         5406.,  5134.]),\n",
       " array([1.75738082e-12, 9.99998200e-02, 1.99999640e-01, 2.99999460e-01,\n",
       "        3.99999280e-01, 4.99999100e-01, 5.99998920e-01, 6.99998740e-01,\n",
       "        7.99998560e-01, 8.99998380e-01, 9.99998200e-01]),\n",
       " <a list of 10 Patch objects>)"
      ]
     },
     "execution_count": 1,
     "metadata": {},
     "output_type": "execute_result"
    },
    {
     "data": {
      "image/png": "[encoded data removed]",
      "text/plain": [
       "<Figure size 432x288 with 1 Axes>"
      ]
     },
     "metadata": {
      "needs_background": "light"
     },
     "output_type": "display_data"
    }
   ],
   "source": [
    "%matplotlib inline\n",
    "import numpy as np\n",
    "import matplotlib.pyplot as plt\n",
    "\n",
    "S = 100000\n",
    "x = np.random.uniform(-1,1,size=S)\n",
    "y = x**2\n",
    "plt.hist(y)"
   ]
  },
  {
   "cell_type": "code",
   "execution_count": 2,
   "metadata": {},
   "outputs": [],
   "source": [
    "import scipy.stats\n",
    "\n",
    "n = 10\n",
    "theta = y\n",
    "k_ = scipy.stats.binom.rvs(n, theta)"
   ]
  },
  {
   "cell_type": "code",
   "execution_count": 3,
   "metadata": {},
   "outputs": [
    {
     "data": {
      "image/png": "[encoded data removed]",
      "text/plain": [
       "<Figure size 432x288 with 1 Axes>"
      ]
     },
     "metadata": {
      "needs_background": "light"
     },
     "output_type": "display_data"
    }
   ],
   "source": [
    "# construct data set by sampling from Gaussian\n",
    "np.random.seed(0)\n",
    "D = scipy.stats.norm.rvs(size=100)\n",
    "\n",
    "# plot as bar chart\n",
    "plt.bar(D, height=1, width=0.01, alpha=0.5);\n",
    "ax = plt.gca()\n",
    "ax.set_xlabel('$x$');\n",
    "ax.set_ylim(0,1);"
   ]
  },
  {
   "cell_type": "code",
   "execution_count": 4,
   "metadata": {},
   "outputs": [],
   "source": [
    "def log_like(params, D):\n",
    "    mean, log_sigma = params\n",
    "    sigma = np.exp(log_sigma) # prevents sigma < 0\n",
    "    # likelihood is same function as sampling process for D: likelihood principle\n",
    "    return np.sum(scipy.stats.norm.logpdf(D, loc=mean, scale=sigma))\n",
    "\n",
    "def log_prior(params):\n",
    "    mean, log_sigma = params\n",
    "    sigma = np.exp(log_sigma)\n",
    "    return 1/sigma # non-informative prior = Jeffreys' priors\n",
    "\n",
    "def log_posterior(params, D):\n",
    "    return log_like(params, D) + log_prior(params)\n",
    "\n",
    "# some initial guess, use log of sigma to prevent sigma < 0\n",
    "params = (0.5, np.log(0.2))"
   ]
  },
  {
   "cell_type": "code",
   "execution_count": 5,
   "metadata": {},
   "outputs": [
    {
     "name": "stderr",
     "output_type": "stream",
     "text": [
      "100%|██████████| 5000/5000 [00:21<00:00, 237.85it/s]\n"
     ]
    }
   ],
   "source": [
    "import emcee, corner\n",
    "\n",
    "# create a small ball around the MLE the initialize each walker \n",
    "nwalkers, ndim = 30, 2\n",
    "pos = params + 1e-3 * np.random.randn(nwalkers, ndim)\n",
    "\n",
    "# run emcee\n",
    "sampler = emcee.EnsembleSampler(nwalkers, ndim, log_posterior, args=(D,))\n",
    "sampler.run_mcmc(pos, 5000, progress=True);"
   ]
  },
  {
   "cell_type": "code",
   "execution_count": 7,
   "metadata": {},
   "outputs": [
    {
     "name": "stdout",
     "output_type": "stream",
     "text": [
      "(0.5, -1.6094379124341003)\n",
      "[[ 0.50188315 -1.61078567]\n",
      " [ 0.49872952 -1.60846852]\n",
      " [ 0.49882688 -1.60749429]\n",
      " [ 0.49958638 -1.61018537]\n",
      " [ 0.50192294 -1.6079574 ]\n",
      " [ 0.50186756 -1.60853187]\n",
      " [ 0.49913877 -1.60752785]\n",
      " [ 0.499732   -1.60863546]\n",
      " [ 0.50094725 -1.60959292]\n",
      " [ 0.50061408 -1.60851571]\n",
      " [ 0.50037643 -1.61053731]\n",
      " [ 0.50029824 -1.60811153]\n",
      " [ 0.49930543 -1.60958755]\n",
      " [ 0.49956485 -1.60758865]\n",
      " [ 0.50067229 -1.60903045]\n",
      " [ 0.49923008 -1.60889866]\n",
      " [ 0.49932567 -1.60940608]\n",
      " [ 0.49936415 -1.60876148]\n",
      " [ 0.50057659 -1.60964621]\n",
      " [ 0.50039601 -1.61053097]\n",
      " [ 0.49850874 -1.60899852]\n",
      " [ 0.50016667 -1.60880288]\n",
      " [ 0.50238314 -1.60849343]\n",
      " [ 0.49908718 -1.6083209 ]\n",
      " [ 0.49868409 -1.6098995 ]\n",
      " [ 0.49993176 -1.60772457]\n",
      " [ 0.49925525 -1.61026435]\n",
      " [ 0.49990155 -1.61010139]\n",
      " [ 0.50112664 -1.61051784]\n",
      " [ 0.49885253 -1.60987573]]\n"
     ]
    }
   ],
   "source": [
    "print(params)\n",
    "print(pos)"
   ]
  },
  {
   "cell_type": "code",
   "execution_count": null,
   "metadata": {},
   "outputs": [],
   "source": []
  }
 ],
 "metadata": {
  "kernelspec": {
   "display_name": "Python 3",
   "language": "python",
   "name": "python3"
  },
  "language_info": {
   "codemirror_mode": {
    "name": "ipython",
    "version": 3
   },
   "file_extension": ".py",
   "mimetype": "text/x-python",
   "name": "python",
   "nbconvert_exporter": "python",
   "pygments_lexer": "ipython3",
   "version": "3.7.6"
  }
 },
 "nbformat": 4,
 "nbformat_minor": 4
}
